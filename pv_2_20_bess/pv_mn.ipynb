{
 "cells": [
  {
   "cell_type": "code",
   "execution_count": 2,
   "metadata": {},
   "outputs": [],
   "source": [
    "import numpy as np\n",
    "import pv_2_20\n",
    "from pydae.utils import read_data, save_json"
   ]
  },
  {
   "cell_type": "code",
   "execution_count": 3,
   "metadata": {},
   "outputs": [
    {
     "data": {
      "text/plain": [
       "True"
      ]
     },
     "execution_count": 3,
     "metadata": {},
     "output_type": "execute_result"
    }
   ],
   "source": [
    "M = 2\n",
    "N = 20\n",
    "model = pv_2_20.model()\n",
    "model.ini({},'xy_0.json')\n",
    "# 'bs_MV0102_MV0101':0.0"
   ]
  },
  {
   "cell_type": "code",
   "execution_count": 6,
   "metadata": {},
   "outputs": [],
   "source": [
    "measurements = {}\n",
    "conditions = {}\n",
    "grid_data = read_data('pv_2_20.json')\n",
    "\n",
    "buse_names = [item['name'] for item in grid_data['buses']]\n",
    "\n",
    "# Generators active and reactive power (W and var)\n",
    "# Low Voltage side\n",
    "for i_m in range(1,M+1):\n",
    "    for i_n in range(1,N+1):\n",
    "        name = 'LV' + f\"{i_m}\".zfill(2) + f\"{i_n}\".zfill(2)\n",
    "\n",
    "        S_base = model.get_value(f'S_n_{name}')\n",
    "        U_base = grid_data['buses'][buse_names.index(name)]['U_kV']*1000\n",
    "\n",
    "        P = model.get_value(f'p_s_{name}')*S_base\n",
    "        Q = model.get_value(f'q_s_{name}')*S_base\n",
    "        U_m = model.get_value(f'V_{name}')*U_base\n",
    "\n",
    "        S = P + 1j*Q\n",
    "        S_m = np.abs(S)\n",
    "        I_m = S_m/(np.sqrt(3)*U_m)\n",
    "\n",
    "\n",
    "        measurements.update({f'P_{name}':P})\n",
    "        measurements.update({f'Q_{name}':Q})\n",
    "        measurements.update({f'U_{name}':U_m}) # \"m\" means \"module\"\n",
    "        measurements.update({f'I_{name}':I_m})    \n",
    "\n",
    "        \n",
    "        conditions.update({f'irrad_{name}':model.get_value(f'irrad_{name}')})   \n",
    "\n",
    "\n",
    "# Feeders\n",
    "i_n = 1\n",
    "for i_m in range(1,M+1):\n",
    "    name = 'POI_MV_MV' + f\"{i_m}\".zfill(2) + f\"{i_n}\".zfill(2) \n",
    " \n",
    "    P_Feeder_pu,Q_Feeder_pu = model.get_mvalue([f'p_line_{name}',f'q_line_{name}'])\n",
    "    P =-P_Feeder_pu*grid_data['system']['S_base']\n",
    "    Q =-Q_Feeder_pu*grid_data['system']['S_base']\n",
    "    S_base = model.get_value(f'S_n_{name}')\n",
    "    U_base = grid_data['buses'][buse_names.index('POI_MV')]['U_kV']*1000\n",
    "    U_m = model.get_value(f'V_POI_MV')*U_base\n",
    "    S = P + 1j*Q\n",
    "    S_m = np.abs(S)\n",
    "    I_m = S_m/(np.sqrt(3)*U_m)\n",
    "\n",
    "\n",
    "    measurements.update({f'P_{name}':P})\n",
    "    measurements.update({f'Q_{name}':Q})\n",
    "    measurements.update({f'U_{name}':U_m}) # \"m\" means \"module\"\n",
    "    measurements.update({f'I_{name}':I_m})  \n",
    "\n",
    "\n",
    "# Powers and voltages at POI\n",
    "P_POI_pu,Q_POI_pu = model.get_mvalue([f'p_line_POI_GRID',f'q_line_POI_GRID'])\n",
    "P = P_POI_pu*grid_data['system']['S_base']\n",
    "Q = Q_POI_pu*grid_data['system']['S_base']\n",
    "S_base = model.get_value(f'S_n_{name}')\n",
    "U_base = grid_data['buses'][buse_names.index('POI')]['U_kV']*1000\n",
    "U_m = model.get_value(f'V_POI')*U_base\n",
    "S = P + 1j*Q\n",
    "S_m = np.abs(S)\n",
    "I_m = S_m/(np.sqrt(3)*U_m)\n",
    "\n",
    "\n",
    "measurements.update({f'P_POI':P})\n",
    "measurements.update({f'Q_POI':Q})\n",
    "measurements.update({f'U_POI':U_m}) # \"m\" means \"module\"\n",
    "measurements.update({f'I_POI':I_m})  \n",
    "\n",
    "save_json(measurements,file='measurements.json')\n",
    "save_json(conditions,file='conditions.json')"
   ]
  },
  {
   "cell_type": "code",
   "execution_count": 7,
   "metadata": {},
   "outputs": [
    {
     "data": {
      "text/plain": [
       "{'P_LV0101': 749825.0000000005,\n",
       " 'Q_LV0101': 1.6971894054167888e-09,\n",
       " 'U_LV0101': 407.20525510820715,\n",
       " 'I_LV0101': 1063.1288770575254,\n",
       " 'P_LV0102': 749824.9999999997,\n",
       " 'Q_LV0102': -3.592401461256353e-09,\n",
       " 'U_LV0102': 409.7467197340146,\n",
       " 'I_LV0102': 1056.534792703487,\n",
       " 'P_LV0103': 749825.0000000003,\n",
       " 'Q_LV0103': 2.5662529533865447e-10,\n",
       " 'U_LV0103': 412.2680392638282,\n",
       " 'I_LV0103': 1050.0733124210785,\n",
       " 'P_LV0104': 749825.0000000005,\n",
       " 'Q_LV0104': 3.1193348935031627e-09,\n",
       " 'U_LV0104': 414.76910467347034,\n",
       " 'I_LV0104': 1043.7413508316247,\n",
       " 'P_LV0105': 749825.0000000002,\n",
       " 'Q_LV0105': -5.953190783271816e-10,\n",
       " 'U_LV0105': 417.24981086817013,\n",
       " 'I_LV0105': 1037.5359180974908,\n",
       " 'P_LV0106': 749825.0000000001,\n",
       " 'Q_LV0106': 2.024022290677392e-09,\n",
       " 'U_LV0106': 419.7100566235196,\n",
       " 'I_LV0106': 1031.454116391196,\n",
       " 'P_LV0107': 749824.9999999998,\n",
       " 'Q_LV0107': -3.0288948567562555e-09,\n",
       " 'U_LV0107': 422.14974453119777,\n",
       " 'I_LV0107': 1025.4931365074365,\n",
       " 'P_LV0108': 749824.9999999995,\n",
       " 'Q_LV0108': -1.65434280320574e-09,\n",
       " 'U_LV0108': 424.56878094915913,\n",
       " 'I_LV0108': 1019.6502546119867,\n",
       " 'P_LV0109': 749825.0,\n",
       " 'Q_LV0109': -1.4111403845935089e-09,\n",
       " 'U_LV0109': 426.96707595599906,\n",
       " 'I_LV0109': 1013.9228291216644,\n",
       " 'P_LV0110': 749824.9999999999,\n",
       " 'Q_LV0110': 1.867366158675247e-09,\n",
       " 'U_LV0110': 429.34454330923506,\n",
       " 'I_LV0110': 1008.3082977097646,\n",
       " 'P_LV0111': 749825.0000000001,\n",
       " 'Q_LV0111': -1.3893957638365926e-09,\n",
       " 'U_LV0111': 431.70110040725103,\n",
       " 'I_LV0111': 1002.8041744316106,\n",
       " 'P_LV0112': 749824.9999999998,\n",
       " 'Q_LV0112': -2.2699850422267733e-09,\n",
       " 'U_LV0112': 434.0366682546747,\n",
       " 'I_LV0112': 997.4080469650468,\n",
       " 'P_LV0113': 749825.0000000003,\n",
       " 'Q_LV0113': 3.1614631188694274e-10,\n",
       " 'U_LV0113': 436.3511714309711,\n",
       " 'I_LV0113': 992.1175739609449,\n",
       " 'P_LV0114': 749825.0000000001,\n",
       " 'Q_LV0114': 4.114769296914914e-10,\n",
       " 'U_LV0114': 438.6445380620455,\n",
       " 'I_LV0114': 986.9304824989674,\n",
       " 'P_LV0115': 749824.9999999999,\n",
       " 'Q_LV0115': 1.7612016209760465e-09,\n",
       " 'U_LV0115': 440.91669979466997,\n",
       " 'I_LV0115': 981.8445656440622,\n",
       " 'P_LV0116': 749825.0,\n",
       " 'Q_LV0116': -4.147429872792514e-10,\n",
       " 'U_LV0116': 443.16759177354976,\n",
       " 'I_LV0116': 976.8576800993175,\n",
       " 'P_LV0117': 749824.9999999993,\n",
       " 'Q_LV0117': -2.048660549879258e-09,\n",
       " 'U_LV0117': 445.39715262086605,\n",
       " 'I_LV0117': 971.9677439510187,\n",
       " 'P_LV0118': 749825.0000000002,\n",
       " 'Q_LV0118': -6.343015948104074e-10,\n",
       " 'U_LV0118': 447.60532441813535,\n",
       " 'I_LV0118': 967.1727345019295,\n",
       " 'P_LV0119': 749825.0,\n",
       " 'Q_LV0119': 1.6223292406560426e-09,\n",
       " 'U_LV0119': 449.79205269023936,\n",
       " 'I_LV0119': 962.4706861889503,\n",
       " 'P_LV0120': 749825.0000000009,\n",
       " 'Q_LV0120': 7.366757644974514e-10,\n",
       " 'U_LV0120': 451.9572863914877,\n",
       " 'I_LV0120': 957.8596885815475,\n",
       " 'P_LV0201': 749825.0000000005,\n",
       " 'Q_LV0201': 3.112242506806111e-09,\n",
       " 'U_LV0201': 407.20525510820715,\n",
       " 'I_LV0201': 1063.1288770575254,\n",
       " 'P_LV0202': 749825.0000000003,\n",
       " 'Q_LV0202': 6.99256918601382e-10,\n",
       " 'U_LV0202': 409.7467197340146,\n",
       " 'I_LV0202': 1056.534792703488,\n",
       " 'P_LV0203': 749824.9999999995,\n",
       " 'Q_LV0203': 1.1350912178501006e-09,\n",
       " 'U_LV0203': 412.2680392638281,\n",
       " 'I_LV0203': 1050.0733124210778,\n",
       " 'P_LV0204': 749825.0000000005,\n",
       " 'Q_LV0204': 2.2890073332690106e-10,\n",
       " 'U_LV0204': 414.7691046734705,\n",
       " 'I_LV0204': 1043.7413508316242,\n",
       " 'P_LV0205': 749825.0,\n",
       " 'Q_LV0205': 2.110781342863923e-09,\n",
       " 'U_LV0205': 417.2498108681707,\n",
       " 'I_LV0205': 1037.5359180974892,\n",
       " 'P_LV0206': 749825.0000000005,\n",
       " 'Q_LV0206': 4.108949266346983e-09,\n",
       " 'U_LV0206': 419.7100566235204,\n",
       " 'I_LV0206': 1031.4541163911945,\n",
       " 'P_LV0207': 749825.0000000002,\n",
       " 'Q_LV0207': -2.8557123706718446e-09,\n",
       " 'U_LV0207': 422.14974453119856,\n",
       " 'I_LV0207': 1025.493136507435,\n",
       " 'P_LV0208': 749825.0000000005,\n",
       " 'Q_LV0208': 2.4287115544563847e-09,\n",
       " 'U_LV0208': 424.56878094915993,\n",
       " 'I_LV0208': 1019.650254611986,\n",
       " 'P_LV0209': 749824.9999999997,\n",
       " 'Q_LV0209': -3.2108727682367117e-09,\n",
       " 'U_LV0209': 426.96707595599986,\n",
       " 'I_LV0209': 1013.9228291216622,\n",
       " 'P_LV0210': 749824.9999999993,\n",
       " 'Q_LV0210': -3.6917791468526766e-09,\n",
       " 'U_LV0210': 429.34454330923614,\n",
       " 'I_LV0210': 1008.3082977097612,\n",
       " 'P_LV0211': 749825.0,\n",
       " 'Q_LV0211': -2.1020423636933867e-09,\n",
       " 'U_LV0211': 431.70110040725217,\n",
       " 'I_LV0211': 1002.8041744316079,\n",
       " 'P_LV0212': 749824.9999999999,\n",
       " 'Q_LV0212': -9.91066682895026e-10,\n",
       " 'U_LV0212': 434.0366682546761,\n",
       " 'I_LV0212': 997.4080469650438,\n",
       " 'P_LV0213': 749824.9999999997,\n",
       " 'Q_LV0213': 4.983173735600877e-10,\n",
       " 'U_LV0213': 436.3511714309725,\n",
       " 'I_LV0213': 992.1175739609407,\n",
       " 'P_LV0214': 749824.9999999999,\n",
       " 'Q_LV0214': 1.6382772742221183e-09,\n",
       " 'U_LV0214': 438.6445380620471,\n",
       " 'I_LV0214': 986.9304824989636,\n",
       " 'P_LV0215': 749825.0000000002,\n",
       " 'Q_LV0215': 9.213021228270217e-10,\n",
       " 'U_LV0215': 440.91669979467156,\n",
       " 'I_LV0215': 981.8445656440591,\n",
       " 'P_LV0216': 749824.9999999998,\n",
       " 'Q_LV0216': 4.690947634150757e-11,\n",
       " 'U_LV0216': 443.1675917735512,\n",
       " 'I_LV0216': 976.8576800993139,\n",
       " 'P_LV0217': 749824.9999999994,\n",
       " 'Q_LV0217': -3.1981159070753535e-09,\n",
       " 'U_LV0217': 445.3971526208675,\n",
       " 'I_LV0217': 971.9677439510158,\n",
       " 'P_LV0218': 749824.9999999998,\n",
       " 'Q_LV0218': -2.4357524488636676e-09,\n",
       " 'U_LV0218': 447.6053244181367,\n",
       " 'I_LV0218': 967.1727345019261,\n",
       " 'P_LV0219': 749824.9999999998,\n",
       " 'Q_LV0219': 9.459887897950188e-10,\n",
       " 'U_LV0219': 449.79205269024095,\n",
       " 'I_LV0219': 962.4706861889466,\n",
       " 'P_LV0220': 749824.9999999993,\n",
       " 'Q_LV0220': -1.00339795439223e-09,\n",
       " 'U_LV0220': 451.95728639148945,\n",
       " 'I_LV0220': 957.8596885815417,\n",
       " 'P_POI_MV_MV0101': 14085492.798035303,\n",
       " 'Q_POI_MV_MV0101': 1413670.507827547,\n",
       " 'U_POI_MV_MV0101': 20118.13581299679,\n",
       " 'I_POI_MV_MV0101': 406.25622761927985,\n",
       " 'P_POI_MV_MV0201': 14085492.79803477,\n",
       " 'Q_POI_MV_MV0201': 1413670.5078273693,\n",
       " 'U_POI_MV_MV0201': 20118.13581299679,\n",
       " 'I_POI_MV_MV0201': 406.25622761926417,\n",
       " 'P_POI': 28170885.59606869,\n",
       " 'Q_POI': 2078157.6160889158,\n",
       " 'U_POI': 132356.77871747984,\n",
       " 'I_POI': 123.2174419091062}"
      ]
     },
     "execution_count": 7,
     "metadata": {},
     "output_type": "execute_result"
    }
   ],
   "source": [
    "measurements"
   ]
  },
  {
   "cell_type": "code",
   "execution_count": 5,
   "metadata": {},
   "outputs": [
    {
     "data": {
      "text/plain": [
       "0.00024"
      ]
     },
     "execution_count": 5,
     "metadata": {},
     "output_type": "execute_result"
    }
   ],
   "source": [
    "model.get_value('bs_MV0102_MV0101')"
   ]
  },
  {
   "cell_type": "code",
   "execution_count": 6,
   "metadata": {},
   "outputs": [
    {
     "name": "stdout",
     "output_type": "stream",
     "text": [
      "V_POI_MV =  0.99\n",
      "V_POI =  1.00\n",
      "V_GRID =  1.00\n",
      "V_BESS =  0.99\n",
      "V_LV0101 =  1.01\n",
      "V_MV0101 =  1.00\n",
      "V_LV0102 =  1.01\n",
      "V_MV0102 =  1.01\n",
      "V_LV0103 =  1.02\n",
      "V_MV0103 =  1.01\n",
      "V_LV0201 =  1.01\n",
      "V_MV0201 =  1.00\n",
      "V_LV0202 =  1.01\n",
      "V_MV0202 =  1.01\n",
      "V_LV0203 =  1.02\n",
      "V_MV0203 =  1.01\n",
      "p_line_POI_GRID =  0.04\n",
      "q_line_POI_GRID = -0.00\n",
      "p_line_GRID_POI = -0.04\n",
      "q_line_GRID_POI =  0.00\n",
      "p_line_BESS_POI_MV = -0.00\n",
      "q_line_BESS_POI_MV =  0.00\n",
      "p_line_POI_MV_BESS =  0.00\n",
      "q_line_POI_MV_BESS =  0.00\n",
      "p_line_MV0101_POI_MV =  0.02\n",
      "q_line_MV0101_POI_MV = -0.00\n",
      "p_line_POI_MV_MV0101 = -0.02\n",
      "q_line_POI_MV_MV0101 =  0.00\n",
      "p_line_MV0201_POI_MV =  0.02\n",
      "q_line_MV0201_POI_MV = -0.00\n",
      "p_line_POI_MV_MV0201 = -0.02\n",
      "q_line_POI_MV_MV0201 =  0.00\n",
      "p_loss_BESS =  0.00\n",
      "i_s_BESS =  0.00\n",
      "e_BESS =  1.15\n",
      "i_dc_BESS = -0.00\n",
      "p_s_BESS = -0.00\n",
      "q_s_BESS =  0.00\n",
      "alpha_GRID =  0.00\n",
      "Dv_GRID = -0.00\n",
      "m_ref_LV0101 =  0.68\n",
      "v_sd_LV0101 =  0.00\n",
      "v_sq_LV0101 =  1.01\n",
      "lvrt_LV0101 =  0.00\n",
      "m_ref_LV0102 =  0.68\n",
      "v_sd_LV0102 =  0.00\n",
      "v_sq_LV0102 =  1.01\n",
      "lvrt_LV0102 =  0.00\n",
      "m_ref_LV0103 =  0.69\n",
      "v_sd_LV0103 =  0.00\n",
      "v_sq_LV0103 =  1.02\n",
      "lvrt_LV0103 =  0.00\n",
      "m_ref_LV0201 =  0.68\n",
      "v_sd_LV0201 =  0.00\n",
      "v_sq_LV0201 =  1.01\n",
      "lvrt_LV0201 =  0.00\n",
      "m_ref_LV0202 =  0.68\n",
      "v_sd_LV0202 =  0.00\n",
      "v_sq_LV0202 =  1.01\n",
      "lvrt_LV0202 =  0.00\n",
      "m_ref_LV0203 =  0.69\n",
      "v_sd_LV0203 =  0.00\n",
      "v_sq_LV0203 =  1.02\n",
      "lvrt_LV0203 =  0.00\n"
     ]
    }
   ],
   "source": [
    "model.report_z()"
   ]
  },
  {
   "cell_type": "code",
   "execution_count": 11,
   "metadata": {},
   "outputs": [
    {
     "data": {
      "text/plain": [
       "1000.0"
      ]
     },
     "execution_count": 11,
     "metadata": {},
     "output_type": "execute_result"
    }
   ],
   "source": []
  },
  {
   "cell_type": "code",
   "execution_count": 8,
   "metadata": {},
   "outputs": [
    {
     "data": {
      "text/plain": [
       "81.64965809277261"
      ]
     },
     "execution_count": 8,
     "metadata": {},
     "output_type": "execute_result"
    }
   ],
   "source": [
    "Efficiency = 0.15\n",
    "Irradiance = 1000 # W/m**2\n",
    "P_n = 1e6\n",
    "\n",
    "Area_per_PV = P_n/(Irradiance*Efficiency) \n",
    "Side_per_PV = np.sqrt(Area_per_PV)\n",
    "Side_per_PV"
   ]
  },
  {
   "cell_type": "code",
   "execution_count": 32,
   "metadata": {},
   "outputs": [],
   "source": []
  },
  {
   "cell_type": "code",
   "execution_count": 9,
   "metadata": {},
   "outputs": [
    {
     "data": {
      "text/plain": [
       "29.098453567157136"
      ]
     },
     "execution_count": 9,
     "metadata": {},
     "output_type": "execute_result"
    }
   ],
   "source": [
    "120*7*20e3*np.sqrt(3)/1e6"
   ]
  },
  {
   "cell_type": "code",
   "execution_count": null,
   "metadata": {},
   "outputs": [],
   "source": []
  }
 ],
 "metadata": {
  "kernelspec": {
   "display_name": "base",
   "language": "python",
   "name": "python3"
  },
  "language_info": {
   "codemirror_mode": {
    "name": "ipython",
    "version": 3
   },
   "file_extension": ".py",
   "mimetype": "text/x-python",
   "name": "python",
   "nbconvert_exporter": "python",
   "pygments_lexer": "ipython3",
   "version": "3.11.7"
  }
 },
 "nbformat": 4,
 "nbformat_minor": 2
}
