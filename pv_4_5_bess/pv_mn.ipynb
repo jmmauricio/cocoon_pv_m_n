{
 "cells": [
  {
   "cell_type": "code",
   "execution_count": 1,
   "metadata": {},
   "outputs": [],
   "source": [
    "import numpy as np\n",
    "import pv_4_5\n",
    "from pydae.utils import read_data, save_json"
   ]
  },
  {
   "cell_type": "code",
   "execution_count": 2,
   "metadata": {},
   "outputs": [
    {
     "data": {
      "text/plain": [
       "True"
      ]
     },
     "execution_count": 2,
     "metadata": {},
     "output_type": "execute_result"
    }
   ],
   "source": [
    "M = 4\n",
    "N = 5\n",
    "model = pv_4_5.model()\n",
    "model.ini({},'xy_0.json')\n",
    "# 'bs_MV0102_MV0101':0.0"
   ]
  },
  {
   "cell_type": "code",
   "execution_count": 3,
   "metadata": {},
   "outputs": [],
   "source": [
    "measurements = {}\n",
    "conditions = {}\n",
    "grid_data = read_data('pv_4_5.json')\n",
    "\n",
    "buse_names = [item['name'] for item in grid_data['buses']]\n",
    "\n",
    "# Generators active and reactive power (W and var)\n",
    "# Low Voltage side\n",
    "for i_m in range(1,M+1):\n",
    "    for i_n in range(1,N+1):\n",
    "        name = 'LV' + f\"{i_m}\".zfill(2) + f\"{i_n}\".zfill(2)\n",
    "\n",
    "        S_base = model.get_value(f'S_n_{name}')\n",
    "        U_base = grid_data['buses'][buse_names.index(name)]['U_kV']*1000\n",
    "\n",
    "        P = model.get_value(f'p_s_{name}')*S_base\n",
    "        Q = model.get_value(f'q_s_{name}')*S_base\n",
    "        U_m = model.get_value(f'V_{name}')*U_base\n",
    "\n",
    "        S = P + 1j*Q\n",
    "        S_m = np.abs(S)\n",
    "        I_m = S_m/(np.sqrt(3)*U_m)\n",
    "\n",
    "\n",
    "        measurements.update({f'P_{name}':P})\n",
    "        measurements.update({f'Q_{name}':Q})\n",
    "        measurements.update({f'U_{name}':U_m}) # \"m\" means \"module\"\n",
    "        measurements.update({f'I_{name}':I_m})    \n",
    "\n",
    "        \n",
    "        conditions.update({f'irrad_{name}':model.get_value(f'irrad_{name}')})   \n",
    "\n",
    "\n",
    "# Feeders\n",
    "i_n = 1\n",
    "for i_m in range(1,M+1):\n",
    "    name = 'POI_MV_MV' + f\"{i_m}\".zfill(2) + f\"{i_n}\".zfill(2) \n",
    " \n",
    "    P_Feeder_pu,Q_Feeder_pu = model.get_mvalue([f'p_line_{name}',f'q_line_{name}'])\n",
    "    P =-P_Feeder_pu*grid_data['system']['S_base']\n",
    "    Q =-Q_Feeder_pu*grid_data['system']['S_base']\n",
    "    S_base = model.get_value(f'S_n_{name}')\n",
    "    U_base = grid_data['buses'][buse_names.index('POI_MV')]['U_kV']*1000\n",
    "\n",
    "    S = P + 1j*Q\n",
    "    S_m = np.abs(S)\n",
    "    U_m = model.get_value(f'V_POI_MV')*U_base\n",
    "    I_m = S_m/(np.sqrt(3)*U_m)\n",
    "\n",
    "\n",
    "    measurements.update({f'P_{name}':P})\n",
    "    measurements.update({f'Q_{name}':Q})\n",
    "    measurements.update({f'U_{name}':U_m}) # \"m\" means \"module\"\n",
    "    measurements.update({f'I_{name}':I_m})  \n",
    "\n",
    "\n",
    "# Powers and voltages at POI\n",
    "P_POI_pu,Q_POI_pu = model.get_mvalue([f'p_line_POI_GRID',f'q_line_POI_GRID'])\n",
    "P = P_POI_pu*grid_data['system']['S_base']\n",
    "Q = Q_POI_pu*grid_data['system']['S_base']\n",
    "S_base = model.get_value(f'S_n_{name}')\n",
    "U_base = grid_data['buses'][buse_names.index('POI')]['U_kV']*1000\n",
    "\n",
    "S = P + 1j*Q\n",
    "S_m = np.abs(S)\n",
    "I_m = S_m/(np.sqrt(3)*U_m)\n",
    "\n",
    "\n",
    "measurements.update({f'P_POI':P})\n",
    "measurements.update({f'Q_POI':Q})\n",
    "measurements.update({f'U_POI':U_m}) # \"m\" means \"module\"\n",
    "measurements.update({f'I_POI':I_m})  \n",
    "\n",
    "save_json(measurements,file='measurements.json')\n",
    "save_json(conditions,file='conditions.json')"
   ]
  },
  {
   "cell_type": "code",
   "execution_count": 4,
   "metadata": {},
   "outputs": [
    {
     "data": {
      "text/plain": [
       "'POI_MV_MV0401'"
      ]
     },
     "execution_count": 4,
     "metadata": {},
     "output_type": "execute_result"
    }
   ],
   "source": [
    "name"
   ]
  },
  {
   "cell_type": "code",
   "execution_count": 5,
   "metadata": {},
   "outputs": [
    {
     "data": {
      "text/plain": [
       "{'P_LV0101': 749825.0,\n",
       " 'Q_LV0101': -7.976988751349557e-11,\n",
       " 'U_LV0101': 402.4901677775121,\n",
       " 'I_LV0101': 1075.5832073751808,\n",
       " 'P_LV0102': 749825.0000000001,\n",
       " 'Q_LV0102': 1.7712790224935563e-09,\n",
       " 'U_LV0102': 404.9022868685796,\n",
       " 'I_LV0102': 1069.1756496194419,\n",
       " 'P_LV0103': 749824.9999999997,\n",
       " 'Q_LV0103': 1.7270624804249954e-09,\n",
       " 'U_LV0103': 407.29570269526107,\n",
       " 'I_LV0103': 1062.8927895146878,\n",
       " 'P_LV0104': 749824.9999999998,\n",
       " 'Q_LV0104': -1.2028689343370752e-09,\n",
       " 'U_LV0104': 409.67030962249834,\n",
       " 'I_LV0104': 1056.731853460479,\n",
       " 'P_LV0105': 749824.9999999997,\n",
       " 'Q_LV0105': -3.284993310672963e-10,\n",
       " 'U_LV0105': 412.02600667641053,\n",
       " 'I_LV0105': 1050.6901471758388,\n",
       " 'P_LV0201': 749825.0000000001,\n",
       " 'Q_LV0201': 2.642298798787544e-10,\n",
       " 'U_LV0201': 402.4901677775123,\n",
       " 'I_LV0201': 1075.5832073751806,\n",
       " 'P_LV0202': 749825.0000000002,\n",
       " 'Q_LV0202': 3.982466418178248e-09,\n",
       " 'U_LV0202': 404.9022868685798,\n",
       " 'I_LV0202': 1069.1756496194416,\n",
       " 'P_LV0203': 749824.9999999995,\n",
       " 'Q_LV0203': -2.2702639102882412e-09,\n",
       " 'U_LV0203': 407.2957026952611,\n",
       " 'I_LV0203': 1062.8927895146874,\n",
       " 'P_LV0204': 749824.9999999995,\n",
       " 'Q_LV0204': -5.1722750250630505e-09,\n",
       " 'U_LV0204': 409.67030962249834,\n",
       " 'I_LV0204': 1056.7318534604788,\n",
       " 'P_LV0205': 749825.0000000002,\n",
       " 'Q_LV0205': 1.7253706377378527e-09,\n",
       " 'U_LV0205': 412.02600667641065,\n",
       " 'I_LV0205': 1050.6901471758395,\n",
       " 'P_LV0301': 749825.0000000001,\n",
       " 'Q_LV0301': 1.693640080190653e-09,\n",
       " 'U_LV0301': 402.4901677775123,\n",
       " 'I_LV0301': 1075.5832073751806,\n",
       " 'P_LV0302': 749825.0,\n",
       " 'Q_LV0302': -9.644613756937231e-10,\n",
       " 'U_LV0302': 404.9022868685798,\n",
       " 'I_LV0302': 1069.1756496194412,\n",
       " 'P_LV0303': 749824.9999999992,\n",
       " 'Q_LV0303': -2.2124075771208736e-09,\n",
       " 'U_LV0303': 407.29570269526124,\n",
       " 'I_LV0303': 1062.8927895146867,\n",
       " 'P_LV0304': 749824.9999999997,\n",
       " 'Q_LV0304': -6.318665920469906e-09,\n",
       " 'U_LV0304': 409.6703096224984,\n",
       " 'I_LV0304': 1056.7318534604788,\n",
       " 'P_LV0305': 749824.9999999999,\n",
       " 'Q_LV0305': -6.814868293605073e-10,\n",
       " 'U_LV0305': 412.0260066764107,\n",
       " 'I_LV0305': 1050.6901471758388,\n",
       " 'P_LV0401': 749825.0000000001,\n",
       " 'Q_LV0401': 4.795405730642219e-11,\n",
       " 'U_LV0401': 402.4901677775121,\n",
       " 'I_LV0401': 1075.583207375181,\n",
       " 'P_LV0402': 749824.9999999997,\n",
       " 'Q_LV0402': 2.4242139325117055e-10,\n",
       " 'U_LV0402': 404.9022868685796,\n",
       " 'I_LV0402': 1069.1756496194412,\n",
       " 'P_LV0403': 749824.9999999995,\n",
       " 'Q_LV0403': -3.44987051224341e-09,\n",
       " 'U_LV0403': 407.29570269526107,\n",
       " 'I_LV0403': 1062.8927895146876,\n",
       " 'P_LV0404': 749824.9999999997,\n",
       " 'Q_LV0404': -1.7996080765592147e-09,\n",
       " 'U_LV0404': 409.6703096224982,\n",
       " 'I_LV0404': 1056.7318534604792,\n",
       " 'P_LV0405': 749825.0000000002,\n",
       " 'Q_LV0405': 1.3455023315900113e-09,\n",
       " 'U_LV0405': 412.0260066764105,\n",
       " 'I_LV0405': 1050.69014717584,\n",
       " 'P_POI_MV_MV0101': 3659323.1243656543,\n",
       " 'Q_POI_MV_MV0101': -27872.759788127867,\n",
       " 'U_POI_MV_MV0101': 19887.8361537509,\n",
       " 'I_POI_MV_MV0101': 106.2344068359018,\n",
       " 'P_POI_MV_MV0201': 3659323.124365832,\n",
       " 'Q_POI_MV_MV0201': -27872.759788039046,\n",
       " 'U_POI_MV_MV0201': 19887.8361537509,\n",
       " 'I_POI_MV_MV0201': 106.23440683590695,\n",
       " 'P_POI_MV_MV0301': 3659323.1243657875,\n",
       " 'Q_POI_MV_MV0301': -27872.759787994637,\n",
       " 'U_POI_MV_MV0301': 19887.8361537509,\n",
       " 'I_POI_MV_MV0301': 106.23440683590565,\n",
       " 'P_POI_MV_MV0401': 3659323.1243656543,\n",
       " 'Q_POI_MV_MV0401': -27872.759788127867,\n",
       " 'U_POI_MV_MV0401': 19887.8361537509,\n",
       " 'I_POI_MV_MV0401': 106.2344068359018,\n",
       " 'P_POI': 14637192.497462112,\n",
       " 'Q_POI': -534510.4942210632,\n",
       " 'U_POI': 19887.8361537509,\n",
       " 'I_POI': 425.2056231079923}"
      ]
     },
     "execution_count": 5,
     "metadata": {},
     "output_type": "execute_result"
    }
   ],
   "source": [
    "measurements"
   ]
  },
  {
   "cell_type": "code",
   "execution_count": 6,
   "metadata": {},
   "outputs": [
    {
     "data": {
      "text/plain": [
       "0.00048"
      ]
     },
     "execution_count": 6,
     "metadata": {},
     "output_type": "execute_result"
    }
   ],
   "source": [
    "model.get_value('bs_MV0102_MV0101')"
   ]
  },
  {
   "cell_type": "code",
   "execution_count": 7,
   "metadata": {},
   "outputs": [
    {
     "name": "stdout",
     "output_type": "stream",
     "text": [
      "V_POI_MV =  0.99\n",
      "V_POI =  1.00\n",
      "V_GRID =  1.00\n",
      "V_BESS =  0.99\n",
      "V_LV0101 =  1.01\n",
      "V_MV0101 =  1.00\n",
      "V_LV0102 =  1.01\n",
      "V_MV0102 =  1.01\n",
      "V_LV0103 =  1.02\n",
      "V_MV0103 =  1.01\n",
      "V_LV0104 =  1.02\n",
      "V_MV0104 =  1.02\n",
      "V_LV0105 =  1.03\n",
      "V_MV0105 =  1.02\n",
      "V_LV0201 =  1.01\n",
      "V_MV0201 =  1.00\n",
      "V_LV0202 =  1.01\n",
      "V_MV0202 =  1.01\n",
      "V_LV0203 =  1.02\n",
      "V_MV0203 =  1.01\n",
      "V_LV0204 =  1.02\n",
      "V_MV0204 =  1.02\n",
      "V_LV0205 =  1.03\n",
      "V_MV0205 =  1.02\n",
      "V_LV0301 =  1.01\n",
      "V_MV0301 =  1.00\n",
      "V_LV0302 =  1.01\n",
      "V_MV0302 =  1.01\n",
      "V_LV0303 =  1.02\n",
      "V_MV0303 =  1.01\n",
      "V_LV0304 =  1.02\n",
      "V_MV0304 =  1.02\n",
      "V_LV0305 =  1.03\n",
      "V_MV0305 =  1.02\n",
      "V_LV0401 =  1.01\n",
      "V_MV0401 =  1.00\n",
      "V_LV0402 =  1.01\n",
      "V_MV0402 =  1.01\n",
      "V_LV0403 =  1.02\n",
      "V_MV0403 =  1.01\n",
      "V_LV0404 =  1.02\n",
      "V_MV0404 =  1.02\n",
      "V_LV0405 =  1.03\n",
      "V_MV0405 =  1.02\n",
      "p_line_POI_GRID =  0.15\n",
      "q_line_POI_GRID = -0.01\n",
      "p_line_GRID_POI = -0.15\n",
      "q_line_GRID_POI =  0.02\n",
      "p_line_BESS_POI_MV = -0.00\n",
      "q_line_BESS_POI_MV =  0.00\n",
      "p_line_POI_MV_BESS =  0.00\n",
      "q_line_POI_MV_BESS =  0.00\n",
      "p_line_MV0101_POI_MV =  0.04\n",
      "q_line_MV0101_POI_MV = -0.00\n",
      "p_line_POI_MV_MV0101 = -0.04\n",
      "q_line_POI_MV_MV0101 =  0.00\n",
      "p_line_MV0201_POI_MV =  0.04\n",
      "q_line_MV0201_POI_MV = -0.00\n",
      "p_line_POI_MV_MV0201 = -0.04\n",
      "q_line_POI_MV_MV0201 =  0.00\n",
      "p_line_MV0301_POI_MV =  0.04\n",
      "q_line_MV0301_POI_MV = -0.00\n",
      "p_line_POI_MV_MV0301 = -0.04\n",
      "q_line_POI_MV_MV0301 =  0.00\n",
      "p_line_MV0401_POI_MV =  0.04\n",
      "q_line_MV0401_POI_MV = -0.00\n",
      "p_line_POI_MV_MV0401 = -0.04\n",
      "q_line_POI_MV_MV0401 =  0.00\n",
      "p_loss_BESS =  0.00\n",
      "i_s_BESS =  0.00\n",
      "e_BESS =  1.15\n",
      "i_dc_BESS =  0.00\n",
      "p_s_BESS = -0.00\n",
      "q_s_BESS =  0.00\n",
      "alpha_GRID =  0.00\n",
      "Dv_GRID = -0.00\n",
      "m_ref_LV0101 =  0.68\n",
      "v_sd_LV0101 =  0.00\n",
      "v_sq_LV0101 =  1.01\n",
      "lvrt_LV0101 =  0.00\n",
      "m_ref_LV0102 =  0.68\n",
      "v_sd_LV0102 =  0.00\n",
      "v_sq_LV0102 =  1.01\n",
      "lvrt_LV0102 =  0.00\n",
      "m_ref_LV0103 =  0.69\n",
      "v_sd_LV0103 =  0.00\n",
      "v_sq_LV0103 =  1.02\n",
      "lvrt_LV0103 =  0.00\n",
      "m_ref_LV0104 =  0.69\n",
      "v_sd_LV0104 =  0.00\n",
      "v_sq_LV0104 =  1.02\n",
      "lvrt_LV0104 =  0.00\n",
      "m_ref_LV0105 =  0.69\n",
      "v_sd_LV0105 =  0.00\n",
      "v_sq_LV0105 =  1.03\n",
      "lvrt_LV0105 =  0.00\n",
      "m_ref_LV0201 =  0.68\n",
      "v_sd_LV0201 =  0.00\n",
      "v_sq_LV0201 =  1.01\n",
      "lvrt_LV0201 =  0.00\n",
      "m_ref_LV0202 =  0.68\n",
      "v_sd_LV0202 =  0.00\n",
      "v_sq_LV0202 =  1.01\n",
      "lvrt_LV0202 =  0.00\n",
      "m_ref_LV0203 =  0.69\n",
      "v_sd_LV0203 =  0.00\n",
      "v_sq_LV0203 =  1.02\n",
      "lvrt_LV0203 =  0.00\n",
      "m_ref_LV0204 =  0.69\n",
      "v_sd_LV0204 =  0.00\n",
      "v_sq_LV0204 =  1.02\n",
      "lvrt_LV0204 =  0.00\n",
      "m_ref_LV0205 =  0.69\n",
      "v_sd_LV0205 =  0.00\n",
      "v_sq_LV0205 =  1.03\n",
      "lvrt_LV0205 =  0.00\n",
      "m_ref_LV0301 =  0.68\n",
      "v_sd_LV0301 =  0.00\n",
      "v_sq_LV0301 =  1.01\n",
      "lvrt_LV0301 =  0.00\n",
      "m_ref_LV0302 =  0.68\n",
      "v_sd_LV0302 =  0.00\n",
      "v_sq_LV0302 =  1.01\n",
      "lvrt_LV0302 =  0.00\n",
      "m_ref_LV0303 =  0.69\n",
      "v_sd_LV0303 =  0.00\n",
      "v_sq_LV0303 =  1.02\n",
      "lvrt_LV0303 =  0.00\n",
      "m_ref_LV0304 =  0.69\n",
      "v_sd_LV0304 =  0.00\n",
      "v_sq_LV0304 =  1.02\n",
      "lvrt_LV0304 =  0.00\n",
      "m_ref_LV0305 =  0.69\n",
      "v_sd_LV0305 =  0.00\n",
      "v_sq_LV0305 =  1.03\n",
      "lvrt_LV0305 =  0.00\n",
      "m_ref_LV0401 =  0.68\n",
      "v_sd_LV0401 =  0.00\n",
      "v_sq_LV0401 =  1.01\n",
      "lvrt_LV0401 =  0.00\n",
      "m_ref_LV0402 =  0.68\n",
      "v_sd_LV0402 =  0.00\n",
      "v_sq_LV0402 =  1.01\n",
      "lvrt_LV0402 =  0.00\n",
      "m_ref_LV0403 =  0.69\n",
      "v_sd_LV0403 =  0.00\n",
      "v_sq_LV0403 =  1.02\n",
      "lvrt_LV0403 =  0.00\n",
      "m_ref_LV0404 =  0.69\n",
      "v_sd_LV0404 =  0.00\n",
      "v_sq_LV0404 =  1.02\n",
      "lvrt_LV0404 =  0.00\n",
      "m_ref_LV0405 =  0.69\n",
      "v_sd_LV0405 =  0.00\n",
      "v_sq_LV0405 =  1.03\n",
      "lvrt_LV0405 =  0.00\n"
     ]
    }
   ],
   "source": [
    "model.report_z()"
   ]
  },
  {
   "cell_type": "code",
   "execution_count": 8,
   "metadata": {},
   "outputs": [
    {
     "data": {
      "text/plain": [
       "['POI_MV',\n",
       " 'POI',\n",
       " 'GRID',\n",
       " 'BESS',\n",
       " 'LV0101',\n",
       " 'MV0101',\n",
       " 'LV0102',\n",
       " 'MV0102',\n",
       " 'LV0103',\n",
       " 'MV0103',\n",
       " 'LV0104',\n",
       " 'MV0104',\n",
       " 'LV0105',\n",
       " 'MV0105',\n",
       " 'LV0201',\n",
       " 'MV0201',\n",
       " 'LV0202',\n",
       " 'MV0202',\n",
       " 'LV0203',\n",
       " 'MV0203',\n",
       " 'LV0204',\n",
       " 'MV0204',\n",
       " 'LV0205',\n",
       " 'MV0205',\n",
       " 'LV0301',\n",
       " 'MV0301',\n",
       " 'LV0302',\n",
       " 'MV0302',\n",
       " 'LV0303',\n",
       " 'MV0303',\n",
       " 'LV0304',\n",
       " 'MV0304',\n",
       " 'LV0305',\n",
       " 'MV0305',\n",
       " 'LV0401',\n",
       " 'MV0401',\n",
       " 'LV0402',\n",
       " 'MV0402',\n",
       " 'LV0403',\n",
       " 'MV0403',\n",
       " 'LV0404',\n",
       " 'MV0404',\n",
       " 'LV0405',\n",
       " 'MV0405']"
      ]
     },
     "execution_count": 8,
     "metadata": {},
     "output_type": "execute_result"
    }
   ],
   "source": [
    "buse_names"
   ]
  },
  {
   "cell_type": "code",
   "execution_count": 9,
   "metadata": {},
   "outputs": [
    {
     "data": {
      "text/plain": [
       "81.64965809277261"
      ]
     },
     "execution_count": 9,
     "metadata": {},
     "output_type": "execute_result"
    }
   ],
   "source": [
    "Efficiency = 0.15\n",
    "Irradiance = 1000 # W/m**2\n",
    "P_n = 1e6\n",
    "\n",
    "Area_per_PV = P_n/(Irradiance*Efficiency) \n",
    "Side_per_PV = np.sqrt(Area_per_PV)\n",
    "Side_per_PV"
   ]
  },
  {
   "cell_type": "code",
   "execution_count": 32,
   "metadata": {},
   "outputs": [],
   "source": []
  },
  {
   "cell_type": "code",
   "execution_count": 10,
   "metadata": {},
   "outputs": [
    {
     "data": {
      "text/plain": [
       "29.098453567157136"
      ]
     },
     "execution_count": 10,
     "metadata": {},
     "output_type": "execute_result"
    }
   ],
   "source": [
    "120*7*20e3*np.sqrt(3)/1e6"
   ]
  },
  {
   "cell_type": "code",
   "execution_count": null,
   "metadata": {},
   "outputs": [],
   "source": []
  }
 ],
 "metadata": {
  "kernelspec": {
   "display_name": "base",
   "language": "python",
   "name": "python3"
  },
  "language_info": {
   "codemirror_mode": {
    "name": "ipython",
    "version": 3
   },
   "file_extension": ".py",
   "mimetype": "text/x-python",
   "name": "python",
   "nbconvert_exporter": "python",
   "pygments_lexer": "ipython3",
   "version": "3.11.7"
  }
 },
 "nbformat": 4,
 "nbformat_minor": 2
}
