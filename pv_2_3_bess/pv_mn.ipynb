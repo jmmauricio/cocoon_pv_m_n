{
 "cells": [
  {
   "cell_type": "code",
   "execution_count": 2,
   "metadata": {},
   "outputs": [],
   "source": [
    "import pv_2_3"
   ]
  },
  {
   "cell_type": "code",
   "execution_count": 3,
   "metadata": {},
   "outputs": [],
   "source": [
    "model = pv_2_3.model()\n"
   ]
  },
  {
   "cell_type": "code",
   "execution_count": 4,
   "metadata": {},
   "outputs": [
    {
     "data": {
      "text/plain": [
       "True"
      ]
     },
     "execution_count": 4,
     "metadata": {},
     "output_type": "execute_result"
    }
   ],
   "source": [
    "model.ini({},'xy_0.json')"
   ]
  },
  {
   "cell_type": "code",
   "execution_count": 6,
   "metadata": {},
   "outputs": [
    {
     "name": "stdout",
     "output_type": "stream",
     "text": [
      "V_POI_MV =  0.99\n",
      "V_PV  =  0.98\n",
      "V_POI =  0.99\n",
      "V_GRID =  1.00\n",
      "V_BESS =  0.99\n",
      "V_LV0101 =  1.00\n",
      "V_MV0101 =  0.99\n",
      "V_LV0102 =  1.00\n",
      "V_MV0102 =  1.00\n",
      "V_LV0103 =  1.01\n",
      "V_MV0103 =  1.00\n",
      "V_LV0201 =  1.00\n",
      "V_MV0201 =  0.99\n",
      "V_LV0202 =  1.00\n",
      "V_MV0202 =  1.00\n",
      "V_LV0203 =  1.01\n",
      "V_MV0203 =  1.00\n",
      "p_line_POI_GRID =  0.04\n",
      "q_line_POI_GRID = -0.01\n",
      "p_line_GRID_POI = -0.04\n",
      "q_line_GRID_POI =  0.01\n",
      "p_line_BESS_POI_MV = -0.00\n",
      "q_line_BESS_POI_MV = -0.00\n",
      "p_line_POI_MV_BESS =  0.00\n",
      "q_line_POI_MV_BESS =  0.00\n",
      "p_line_PV_POI_MV =  0.04\n",
      "q_line_PV_POI_MV = -0.00\n",
      "p_line_POI_MV_PV = -0.04\n",
      "q_line_POI_MV_PV =  0.00\n",
      "p_loss_BESS =  0.00\n",
      "i_s_BESS =  0.00\n",
      "e_BESS =  1.15\n",
      "i_dc_BESS = -0.00\n",
      "p_s_BESS = -0.00\n",
      "q_s_BESS =  0.00\n",
      "alpha_GRID =  0.00\n",
      "Dv_GRID =  0.00\n",
      "m_ref_LV0101 =  0.67\n",
      "v_sd_LV0101 =  0.00\n",
      "v_sq_LV0101 =  1.00\n",
      "lvrt_LV0101 =  0.00\n",
      "m_ref_LV0102 =  0.67\n",
      "v_sd_LV0102 =  0.00\n",
      "v_sq_LV0102 =  1.00\n",
      "lvrt_LV0102 =  0.00\n",
      "m_ref_LV0103 =  0.68\n",
      "v_sd_LV0103 =  0.00\n",
      "v_sq_LV0103 =  1.01\n",
      "lvrt_LV0103 =  0.00\n",
      "m_ref_LV0201 =  0.67\n",
      "v_sd_LV0201 =  0.00\n",
      "v_sq_LV0201 =  1.00\n",
      "lvrt_LV0201 =  0.00\n",
      "m_ref_LV0202 =  0.67\n",
      "v_sd_LV0202 =  0.00\n",
      "v_sq_LV0202 =  1.00\n",
      "lvrt_LV0202 =  0.00\n",
      "m_ref_LV0203 =  0.68\n",
      "v_sd_LV0203 =  0.00\n",
      "v_sq_LV0203 =  1.01\n",
      "lvrt_LV0203 =  0.00\n"
     ]
    }
   ],
   "source": [
    "model.report_z()"
   ]
  },
  {
   "cell_type": "code",
   "execution_count": null,
   "metadata": {},
   "outputs": [],
   "source": []
  }
 ],
 "metadata": {
  "kernelspec": {
   "display_name": "base",
   "language": "python",
   "name": "python3"
  },
  "language_info": {
   "codemirror_mode": {
    "name": "ipython",
    "version": 3
   },
   "file_extension": ".py",
   "mimetype": "text/x-python",
   "name": "python",
   "nbconvert_exporter": "python",
   "pygments_lexer": "ipython3",
   "version": "3.11.7"
  }
 },
 "nbformat": 4,
 "nbformat_minor": 2
}
