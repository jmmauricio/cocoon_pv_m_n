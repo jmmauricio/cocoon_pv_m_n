{
 "cells": [
  {
   "cell_type": "code",
   "execution_count": 1,
   "metadata": {},
   "outputs": [],
   "source": [
    "import numpy as np\n",
    "import pv_2_3\n",
    "from pydae.utils import read_data, save_json"
   ]
  },
  {
   "cell_type": "code",
   "execution_count": 2,
   "metadata": {},
   "outputs": [
    {
     "data": {
      "text/plain": [
       "True"
      ]
     },
     "execution_count": 2,
     "metadata": {},
     "output_type": "execute_result"
    }
   ],
   "source": [
    "M = 2\n",
    "N = 3\n",
    "model = pv_2_3.model()\n",
    "model.ini({},'xy_0.json')\n",
    "# 'bs_MV0102_MV0101':0.0"
   ]
  },
  {
   "cell_type": "code",
   "execution_count": 13,
   "metadata": {},
   "outputs": [],
   "source": [
    "measurements = {}\n",
    "conditions = {}\n",
    "grid_data = read_data('pv_2_3.json')\n",
    "\n",
    "buse_names = [item['name'] for item in grid_data['buses']]\n",
    "\n",
    "# Generators active and reactive power (W and var)\n",
    "# Low Voltage side\n",
    "for i_m in range(1,M+1):\n",
    "    for i_n in range(1,N+1):\n",
    "        name = 'LV' + f\"{i_m}\".zfill(2) + f\"{i_n}\".zfill(2)\n",
    "\n",
    "        S_base = model.get_value(f'S_n_{name}')\n",
    "        U_base = grid_data['buses'][buse_names.index(name)]['U_kV']*1000\n",
    "\n",
    "        P = model.get_value(f'p_s_{name}')*S_base\n",
    "        Q = model.get_value(f'q_s_{name}')*S_base\n",
    "        U_m = model.get_value(f'V_{name}')*U_base\n",
    "\n",
    "        S = P + 1j*Q\n",
    "        S_m = np.abs(S)\n",
    "        I_m = S_m/(np.sqrt(3)*U_m)\n",
    "\n",
    "\n",
    "        measurements.update({f'P_{name}':P})\n",
    "        measurements.update({f'Q_{name}':Q})\n",
    "        measurements.update({f'U_{name}':U_m}) # \"m\" means \"module\"\n",
    "        measurements.update({f'I_{name}':I_m})    \n",
    "\n",
    "        \n",
    "        conditions.update({f'irrad_{name}':model.get_value(f'irrad_{name}')})   \n",
    "\n",
    "\n",
    "# Feeders\n",
    "i_n = 1\n",
    "for i_m in range(1,M+1):\n",
    "    name = 'POI_MV_MV' + f\"{i_m}\".zfill(2) + f\"{i_n}\".zfill(2) \n",
    " \n",
    "    P_Feeder_pu,Q_Feeder_pu = model.get_mvalue([f'p_line_{name}',f'q_line_{name}'])\n",
    "    P =-P_Feeder_pu*grid_data['system']['S_base']\n",
    "    Q =-Q_Feeder_pu*grid_data['system']['S_base']\n",
    "    S_base = model.get_value(f'S_n_{name}')\n",
    "    U_base = grid_data['buses'][buse_names.index('POI_MV')]['U_kV']*1000\n",
    "\n",
    "    S = P + 1j*Q\n",
    "    S_m = np.abs(S)\n",
    "    I_m = S_m/(np.sqrt(3)*U_m)\n",
    "\n",
    "\n",
    "    measurements.update({f'P_{name}':P})\n",
    "    measurements.update({f'Q_{name}':Q})\n",
    "    measurements.update({f'U_{name}':U_m}) # \"m\" means \"module\"\n",
    "    measurements.update({f'I_{name}':I_m})  \n",
    "\n",
    "\n",
    "# Powers and voltages at POI\n",
    "P_POI_pu,Q_POI_pu = model.get_mvalue([f'p_line_POI_GRID',f'q_line_POI_GRID'])\n",
    "P = P_POI_pu*grid_data['system']['S_base']\n",
    "Q = Q_POI_pu*grid_data['system']['S_base']\n",
    "S_base = model.get_value(f'S_n_{name}')\n",
    "U_base = grid_data['buses'][buse_names.index('POI')]['U_kV']*1000\n",
    "\n",
    "S = P + 1j*Q\n",
    "S_m = np.abs(S)\n",
    "I_m = S_m/(np.sqrt(3)*U_m)\n",
    "\n",
    "\n",
    "measurements.update({f'P_POI':P})\n",
    "measurements.update({f'Q_POI':Q})\n",
    "measurements.update({f'U_POI':U_m}) # \"m\" means \"module\"\n",
    "measurements.update({f'I_POI':I_m})  \n",
    "\n",
    "save_json(measurements,file='measurements.json')\n",
    "save_json(conditions,file='conditions.json')"
   ]
  },
  {
   "cell_type": "code",
   "execution_count": 4,
   "metadata": {},
   "outputs": [
    {
     "data": {
      "text/plain": [
       "{'P_LV0101': 749824.9999999999,\n",
       " 'Q_LV0101': 1.3065609679895252e-09,\n",
       " 'U_LV0101': 402.34109123570835,\n",
       " 'I_LV0101': 1075.9817354611023,\n",
       " 'P_LV0102': 749825.0,\n",
       " 'Q_LV0102': 1.0396602016964785e-09,\n",
       " 'U_LV0102': 404.74103665134214,\n",
       " 'I_LV0102': 1069.6016128654533,\n",
       " 'P_LV0103': 749825.0,\n",
       " 'Q_LV0103': -1.454096911332799e-09,\n",
       " 'U_LV0103': 407.1224146506749,\n",
       " 'I_LV0103': 1063.3452004025971,\n",
       " 'P_LV0201': 749824.9999999999,\n",
       " 'Q_LV0201': 2.0617803750043634e-09,\n",
       " 'U_LV0201': 402.34109123570835,\n",
       " 'I_LV0201': 1075.9817354611023,\n",
       " 'P_LV0202': 749825.0000000001,\n",
       " 'Q_LV0202': 5.40061980212617e-10,\n",
       " 'U_LV0202': 404.74103665134226,\n",
       " 'I_LV0202': 1069.6016128654533,\n",
       " 'P_LV0203': 749825.0000000002,\n",
       " 'Q_LV0203': -1.8152269819492759e-09,\n",
       " 'U_LV0203': 407.12241465067495,\n",
       " 'I_LV0203': 1063.3452004025974,\n",
       " 'P_POI_MV_MV0101': 2208417.355812875,\n",
       " 'Q_POI_MV_MV0101': -41601.46776621687,\n",
       " 'U_POI_MV_MV0101': 407.12241465067495,\n",
       " 'I_POI_MV_MV0101': 3132.3663755055863,\n",
       " 'P_POI_MV_MV0201': 2208417.355812875,\n",
       " 'Q_POI_MV_MV0201': -41601.46776621687,\n",
       " 'U_POI_MV_MV0201': 407.12241465067495,\n",
       " 'I_POI_MV_MV0201': 3132.3663755055863,\n",
       " 'P_POI': 4416734.711624839,\n",
       " 'Q_POI': -212164.67627120926,\n",
       " 'U_POI': 407.12241465067495,\n",
       " 'I_POI': 6270.7020439566595}"
      ]
     },
     "execution_count": 4,
     "metadata": {},
     "output_type": "execute_result"
    }
   ],
   "source": [
    "measurements"
   ]
  },
  {
   "cell_type": "code",
   "execution_count": 5,
   "metadata": {},
   "outputs": [
    {
     "data": {
      "text/plain": [
       "0.00024"
      ]
     },
     "execution_count": 5,
     "metadata": {},
     "output_type": "execute_result"
    }
   ],
   "source": [
    "model.get_value('bs_MV0102_MV0101')"
   ]
  },
  {
   "cell_type": "code",
   "execution_count": 6,
   "metadata": {},
   "outputs": [
    {
     "name": "stdout",
     "output_type": "stream",
     "text": [
      "V_POI_MV =  0.99\n",
      "V_POI =  1.00\n",
      "V_GRID =  1.00\n",
      "V_BESS =  0.99\n",
      "V_LV0101 =  1.01\n",
      "V_MV0101 =  1.00\n",
      "V_LV0102 =  1.01\n",
      "V_MV0102 =  1.01\n",
      "V_LV0103 =  1.02\n",
      "V_MV0103 =  1.01\n",
      "V_LV0201 =  1.01\n",
      "V_MV0201 =  1.00\n",
      "V_LV0202 =  1.01\n",
      "V_MV0202 =  1.01\n",
      "V_LV0203 =  1.02\n",
      "V_MV0203 =  1.01\n",
      "p_line_POI_GRID =  0.04\n",
      "q_line_POI_GRID = -0.00\n",
      "p_line_GRID_POI = -0.04\n",
      "q_line_GRID_POI =  0.00\n",
      "p_line_BESS_POI_MV = -0.00\n",
      "q_line_BESS_POI_MV =  0.00\n",
      "p_line_POI_MV_BESS =  0.00\n",
      "q_line_POI_MV_BESS =  0.00\n",
      "p_line_MV0101_POI_MV =  0.02\n",
      "q_line_MV0101_POI_MV = -0.00\n",
      "p_line_POI_MV_MV0101 = -0.02\n",
      "q_line_POI_MV_MV0101 =  0.00\n",
      "p_line_MV0201_POI_MV =  0.02\n",
      "q_line_MV0201_POI_MV = -0.00\n",
      "p_line_POI_MV_MV0201 = -0.02\n",
      "q_line_POI_MV_MV0201 =  0.00\n",
      "p_loss_BESS =  0.00\n",
      "i_s_BESS =  0.00\n",
      "e_BESS =  1.15\n",
      "i_dc_BESS = -0.00\n",
      "p_s_BESS = -0.00\n",
      "q_s_BESS =  0.00\n",
      "alpha_GRID =  0.00\n",
      "Dv_GRID = -0.00\n",
      "m_ref_LV0101 =  0.68\n",
      "v_sd_LV0101 =  0.00\n",
      "v_sq_LV0101 =  1.01\n",
      "lvrt_LV0101 =  0.00\n",
      "m_ref_LV0102 =  0.68\n",
      "v_sd_LV0102 =  0.00\n",
      "v_sq_LV0102 =  1.01\n",
      "lvrt_LV0102 =  0.00\n",
      "m_ref_LV0103 =  0.69\n",
      "v_sd_LV0103 =  0.00\n",
      "v_sq_LV0103 =  1.02\n",
      "lvrt_LV0103 =  0.00\n",
      "m_ref_LV0201 =  0.68\n",
      "v_sd_LV0201 =  0.00\n",
      "v_sq_LV0201 =  1.01\n",
      "lvrt_LV0201 =  0.00\n",
      "m_ref_LV0202 =  0.68\n",
      "v_sd_LV0202 =  0.00\n",
      "v_sq_LV0202 =  1.01\n",
      "lvrt_LV0202 =  0.00\n",
      "m_ref_LV0203 =  0.69\n",
      "v_sd_LV0203 =  0.00\n",
      "v_sq_LV0203 =  1.02\n",
      "lvrt_LV0203 =  0.00\n"
     ]
    }
   ],
   "source": [
    "model.report_z()"
   ]
  },
  {
   "cell_type": "code",
   "execution_count": 11,
   "metadata": {},
   "outputs": [
    {
     "data": {
      "text/plain": [
       "1000.0"
      ]
     },
     "execution_count": 11,
     "metadata": {},
     "output_type": "execute_result"
    }
   ],
   "source": []
  },
  {
   "cell_type": "code",
   "execution_count": 8,
   "metadata": {},
   "outputs": [
    {
     "data": {
      "text/plain": [
       "81.64965809277261"
      ]
     },
     "execution_count": 8,
     "metadata": {},
     "output_type": "execute_result"
    }
   ],
   "source": [
    "Efficiency = 0.15\n",
    "Irradiance = 1000 # W/m**2\n",
    "P_n = 1e6\n",
    "\n",
    "Area_per_PV = P_n/(Irradiance*Efficiency) \n",
    "Side_per_PV = np.sqrt(Area_per_PV)\n",
    "Side_per_PV"
   ]
  },
  {
   "cell_type": "code",
   "execution_count": 32,
   "metadata": {},
   "outputs": [],
   "source": []
  },
  {
   "cell_type": "code",
   "execution_count": 9,
   "metadata": {},
   "outputs": [
    {
     "data": {
      "text/plain": [
       "29.098453567157136"
      ]
     },
     "execution_count": 9,
     "metadata": {},
     "output_type": "execute_result"
    }
   ],
   "source": [
    "120*7*20e3*np.sqrt(3)/1e6"
   ]
  },
  {
   "cell_type": "code",
   "execution_count": null,
   "metadata": {},
   "outputs": [],
   "source": []
  }
 ],
 "metadata": {
  "kernelspec": {
   "display_name": "base",
   "language": "python",
   "name": "python3"
  },
  "language_info": {
   "codemirror_mode": {
    "name": "ipython",
    "version": 3
   },
   "file_extension": ".py",
   "mimetype": "text/x-python",
   "name": "python",
   "nbconvert_exporter": "python",
   "pygments_lexer": "ipython3",
   "version": "3.11.7"
  }
 },
 "nbformat": 4,
 "nbformat_minor": 2
}
